{
 "cells": [
  {
   "cell_type": "markdown",
   "metadata": {},
   "source": [
    "# Calculus\n",
    "\n",
    "### Functions\n",
    "A relation from a set of inputs to a set of possible outputs where each input is related to exactly one output. \n",
    "\n",
    "$$f(x) = x + 1$$"
   ]
  },
  {
   "cell_type": "markdown",
   "metadata": {},
   "source": [
    "### Absolute value\n",
    "Let $x$ be a real number. The absolute value of $x$, denoted by $|x|$, is defined by:\n",
    "\n",
    "$$|x|=\\begin{equation}\n",
    "\\left\\{\n",
    "    \\begin{aligned}\n",
    "    x\\,if\\,x\\geq\\,0\\\\\n",
    "    -x\\,if\\,x<0\\\\\n",
    "    \\end{aligned}\n",
    "    \\right.\n",
    "    \\end{equation}\n",
    "$$"
   ]
  },
  {
   "cell_type": "markdown",
   "metadata": {},
   "source": [
    "### System of equations\n",
    "$$\\begin{equation}\n",
    "\\left\\{\n",
    "    \\begin{aligned}\n",
    "    x + 2y = -1\\\\ \n",
    "    x+1 = 2\n",
    "    \\end{aligned}\n",
    "    \\right.\n",
    "    \\end{equation}\n",
    "$$"
   ]
  },
  {
   "cell_type": "markdown",
   "metadata": {},
   "source": [
    "### Exponent\n",
    "For any real number, we define the powers of x as its multiplication itself n times.\n",
    "\n",
    "$$x^{n} = x * x * x *...* x_{n}$$\n",
    "$$x^{-n} = \\frac{1}{x^{n}} = \\frac{1}{x}*\\frac{1}{x}*...*\\frac{1}{x_{n}}$$\n",
    "$$x^{\\frac{n}{m}} = \\sqrt[m]{x^{n}}$$\n",
    "\n",
    "#### Properties of exponents:\n",
    "$$x^{a}*x^{b} = x^{a+b}$$\n",
    "\n",
    "$$\\frac{x^{a}}{x^{b}}=x{a-b}$$\n",
    "\n",
    "$$(x^{a})^{b}=x^{a*b}$$\n",
    "\n",
    "\n"
   ]
  },
  {
   "cell_type": "markdown",
   "metadata": {},
   "source": [
    "### Limits\n",
    "$$\\lim_{x \\to \\infty}\\frac{1}{x} = 0$$\n",
    "\n",
    "The limit of $\\frac{1}{x}$ as $x$ approaches $\\infty$ is $0$"
   ]
  },
  {
   "cell_type": "markdown",
   "metadata": {},
   "source": [
    "$$\\lim_{x\\to c} f(x) = f(c)$$\n",
    "\n",
    "$$\\lim_{x \\to 2}\\frac{x^{2}+6x+8}{x+4} = \\frac{4 + 12 + 8}{2+4} = 4$$\n",
    "\n",
    "\n",
    "What if we have a situation like this, where we have essentially two functions that are approaching infinity at different rates?\n",
    "\n",
    "$$\\lim_{x \\to +\\infty} \\frac{x}{x^2}$$\n",
    "\n",
    "We use the value of the function that gets to inifinity faster, in this case, the parabola functon $f(x) = x^{2}. So we would say that: \n",
    "\n",
    "$$\\lim_{x \\to +\\infty} \\frac{x}{x^2}= 0$$"
   ]
  },
  {
   "cell_type": "markdown",
   "metadata": {},
   "source": [
    "Take for example:\n",
    "\n",
    "$$\\lim_{x \\to \\infty}\\frac{sx^{2}+5x +3}{x+3}$$\n",
    "\n",
    "If we are looking for the limit of the function, the important parts are the the values that take us to our limit the fastest. In our numerator, $5x+3$ is not important since $2x^{2}$ gets us to infinity much faster. Same with our denominator, we can ignor $3$ since it is not really effecting how we get to infinity. So we can look at this function as:\n",
    "\n",
    "$$\\lim_{x \\to \\infty}\\frac{2x^{2}}{x}$$\n",
    "\n",
    "and since $2x^{2}$ will get to infinty faster than $x$, we can say:\n",
    "\n",
    "$$\\lim_{x \\to \\infty}\\frac{2x^{2}+5x +3}{x+3} = \\infty$$"
   ]
  },
  {
   "cell_type": "markdown",
   "metadata": {},
   "source": [
    "Another example:\n",
    "\n",
    "$$\\lim_{x \\to\\infty}\\frac{3x^{2}+3x+1}{2x^{2}+2x + 2}$$\n",
    "\n",
    "We would simplify by removing the values that we don't care about:\n",
    "\n",
    "$$\\lim_{x \\to\\infty}\\frac{3x^{2}}{2x^{2}}$$\n",
    "\n",
    "In this case, we only would keep the exponent values, since $x^{1}$ isn't changing our trajectory to infinty. We can also simplify by removing cancelling out both exponents, since they would reach infinity at the same time. So that would leave us with:\n",
    "\n",
    "$$\\lim_{x \\to\\infty}\\frac{3}{2}=\\frac{3}{2}$$"
   ]
  },
  {
   "cell_type": "markdown",
   "metadata": {},
   "source": [
    "#### Which functions go to infinity fastest?\n",
    "\n",
    "- $y = c$ - constant function (slowest)\n",
    "- $\\log{x}$\n",
    "- $x$ \n",
    "- $x\\log{x}$\n",
    "- $x^{n}$\n",
    "- $n!$\n",
    "- $n^{x}"
   ]
  },
  {
   "cell_type": "markdown",
   "metadata": {},
   "source": [
    "### Lines\n",
    "$$y =mx + b$$\n",
    "\n",
    "A line expresses the rate of change on the y-axis given a certain value of $x$.\n",
    "\n",
    "#### Intercept with the y-axis\n",
    "in our line equation $ y =mx+b$, $b$ is our y intercept. So when $x=0$, that is where we cross the y-axis.\n",
    "\n",
    "#### Slope\n",
    "$m$ represents the slope of the line. It can be expressed as  the tangent of the angle the line forms witht the x -axis.\n",
    "\n",
    "$$m =\\tan{\\theta}$$\n",
    "\n",
    "#### Slope as rate of change\n",
    "$$\\frac{\\Delta y}{\\Delta x} = m$$\n",
    "\n",
    "$\\Delta y$ and $\\Delta x$ are both equal to the difference between two points on the line."
   ]
  },
  {
   "cell_type": "markdown",
   "metadata": {},
   "source": [
    "### Derivatives\n",
    "Reducing our $\\Delta x$ to a as close as zero as possible. \n",
    "\n",
    "$$\\lim{\\Delta x \\to 0} \\frac{\\Delta y}{\\Delta x}$$\n",
    "\n",
    "$$\\lim{\\Delta x \\to 0} \\frac{f(x_{0} \\Delta x)-f(x_{0})}{\\Delta x}$$\n",
    "\n",
    "This is our derivative f(x). The derivative is a function that approximates a curve with an infinitecimal amount of lines so we can compute the slope. **It is the slope of the tangent in a point of the function.**\n",
    "\n",
    "#### Derivatives for max and min\n",
    "Global maximum/minimum refers to the max/min of the entire function. Local max/min refers to the max/min within a certian range. The derivative of the local/global max/min is 0. The zeros of the derivative are the max and min of the original function."
   ]
  }
 ],
 "metadata": {
  "interpreter": {
   "hash": "e171acd309c06983148c9856e741c79a7072f11ec9d548c93ae4f1382cc847af"
  },
  "kernelspec": {
   "display_name": "Python 3.8.12 64-bit ('strive': conda)",
   "language": "python",
   "name": "python3"
  },
  "language_info": {
   "name": "python",
   "version": "3.8.12"
  },
  "orig_nbformat": 4
 },
 "nbformat": 4,
 "nbformat_minor": 2
}
