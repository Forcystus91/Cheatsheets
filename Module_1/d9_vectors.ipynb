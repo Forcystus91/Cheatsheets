{
 "cells": [
  {
   "cell_type": "markdown",
   "metadata": {},
   "source": [
    "# Vectors"
   ]
  },
  {
   "cell_type": "markdown",
   "metadata": {},
   "source": [
    "A vector is an ordered list of numbers. Each element in the vector, also called component or coordinate, is a number.\n",
    "\n",
    "## Mathematical definition of vectors\n",
    "A vector of **n** real elements defines an **n** dimensional vector and belongs to **R** (real numbers). \n",
    "\n",
    "Example: To go from point B to point A, we will need to take 4 steps to the right and 2 steps up. This defines the vector as x= [4,2].\n",
    "\n",
    "$$Radians = degrees * \\frac{\\pi}{180}$$\n",
    "\n",
    "$$degrees = radians * \\frac{180}{\\pi}$$"
   ]
  },
  {
   "cell_type": "markdown",
   "metadata": {},
   "source": [
    "### Transposing a vector\n",
    "Vectors can be represented by columns or rows. Transposing a vector means writing each element in a row as opposed to a column."
   ]
  },
  {
   "cell_type": "code",
   "execution_count": 2,
   "metadata": {},
   "outputs": [],
   "source": [
    "import numpy as np"
   ]
  },
  {
   "cell_type": "markdown",
   "metadata": {},
   "source": [
    "Vectors can be easily represented as numpy arrays. Numpy also allows us to perform operations on vectors better than simply using python list"
   ]
  },
  {
   "cell_type": "code",
   "execution_count": 3,
   "metadata": {},
   "outputs": [],
   "source": [
    "a = [1,2,3,4]\n",
    "v = np.array(a)"
   ]
  },
  {
   "cell_type": "markdown",
   "metadata": {},
   "source": [
    "We can us .T to transpose a vector in with Numpy"
   ]
  },
  {
   "cell_type": "code",
   "execution_count": 4,
   "metadata": {},
   "outputs": [
    {
     "data": {
      "text/plain": [
       "array([1, 2, 3, 4])"
      ]
     },
     "execution_count": 4,
     "metadata": {},
     "output_type": "execute_result"
    }
   ],
   "source": [
    "v.T"
   ]
  },
  {
   "cell_type": "markdown",
   "metadata": {},
   "source": [
    "Since it's only a vector it's not very meaningful to transpose it in Numpy. But we could also transpose a matrix with the same notation. (we represent matrices in Numpy as arrays)"
   ]
  },
  {
   "cell_type": "code",
   "execution_count": 5,
   "metadata": {},
   "outputs": [
    {
     "data": {
      "text/plain": [
       "array([[1, 2],\n",
       "       [3, 4]])"
      ]
     },
     "execution_count": 5,
     "metadata": {},
     "output_type": "execute_result"
    }
   ],
   "source": [
    "matrix = np.array([[1,2],[3,4]])\n",
    "matrix"
   ]
  },
  {
   "cell_type": "code",
   "execution_count": 6,
   "metadata": {},
   "outputs": [
    {
     "data": {
      "text/plain": [
       "array([[1, 3],\n",
       "       [2, 4]])"
      ]
     },
     "execution_count": 6,
     "metadata": {},
     "output_type": "execute_result"
    }
   ],
   "source": [
    "matrix.T"
   ]
  },
  {
   "cell_type": "markdown",
   "metadata": {},
   "source": [
    "### Magnitude and direction\n",
    "Each  vector holds the magnitude as well as the direction of movement. Let's calculate both for vector x= [4 3]. We use the Pythagorean Theorem to calculate it. \n",
    "\n",
    "$$ ||x|| = \\sqrt{({4}^{2})+({3}^{2})}$$\n",
    "||x|| = 5\n",
    "\n",
    "### Norm of vector in Python\n",
    "$$ v = (v_{1}, v_{2}. ..., v_{n}) $$\n",
    "$$ ||v|| = \\sqrt{v_{1}^{2}+v_{2}^{2}+...+v_{n}^{2}}$$\n"
   ]
  },
  {
   "cell_type": "code",
   "execution_count": 7,
   "metadata": {},
   "outputs": [
    {
     "data": {
      "text/plain": [
       "7.416198487095663"
      ]
     },
     "execution_count": 7,
     "metadata": {},
     "output_type": "execute_result"
    }
   ],
   "source": [
    "v = np.array([1,2,3,4,5])\n",
    "\n",
    "result = 0\n",
    "\n",
    "for component in v:\n",
    "    result += component**2\n",
    "np.sqrt(result)"
   ]
  },
  {
   "cell_type": "markdown",
   "metadata": {},
   "source": [
    "We could also use the .linalg to calculate the norm as well"
   ]
  },
  {
   "cell_type": "code",
   "execution_count": 8,
   "metadata": {},
   "outputs": [
    {
     "data": {
      "text/plain": [
       "7.416198487095663"
      ]
     },
     "execution_count": 8,
     "metadata": {},
     "output_type": "execute_result"
    }
   ],
   "source": [
    "np.linalg.norm(v)"
   ]
  },
  {
   "cell_type": "markdown",
   "metadata": {},
   "source": [
    "### Angles on the unit circle\n",
    "#### Trigonometry\n",
    "Unit circle: a radius equal to 1\n",
    "\n",
    "If you take any point on the circumference of the unit circle, and move counter clockwise from the (1,0), you will find the degrees/radians\n",
    "#### sine and cosine\n",
    "Given a certain point on the unit circle, the cosine is the projection on the x-axis of an angle and the sine is the projection of the y-axis on the same angle.\n",
    "\n",
    "**Rotation Matrix**\n",
    "$$\\begin{bmatrix}cos(x) & -sin(x) \\\\ sin(x) & cos(x)\\end{bmatrix}$$\n",
    "\n",
    "#### Tangent\n",
    "$$tan(x) = \\frac{sin(x)}{cos(x)}$$\n",
    "\n",
    "tangent is not defined when cos(x) = 0\n",
    "\n",
    "#### memorize\n",
    "\n",
    "$$sin(0) = 0$$\n",
    "\n",
    "$$cos(0) = 1$$\n",
    "\n",
    "$$sin(30) = \\frac{1}{2}$$\n",
    "\n",
    "$$cos(30) = \\frac{\\sqrt{3}}{2}$$\n",
    "\n",
    "$$sin(45) = \\frac{\\sqrt{2}}{2} = cos(45)$$\n",
    "\n",
    "$$sin(60) = cos(30)$$\n",
    "\n",
    "$$sin(90) = cos(0)$$\n",
    "\n",
    "$$angle = tan^{-1}(\\frac{x}{y})$$"
   ]
  },
  {
   "cell_type": "markdown",
   "metadata": {},
   "source": [
    "### Vector Addition\n",
    "We add its components separately.\n",
    "\n",
    "$$u = (1,2,3,5,7)$$\n",
    "$$v = (2,1,0,1,0)$$\n",
    "$$u + v = (1+2, 2+1, 3+0, 5+1, 7 + 0)$$\n",
    "$$uv = (3,3,3,6,7)$$\n",
    "\n",
    "### Vector operations in python\n"
   ]
  },
  {
   "cell_type": "code",
   "execution_count": 9,
   "metadata": {},
   "outputs": [
    {
     "data": {
      "text/plain": [
       "array([4, 6])"
      ]
     },
     "execution_count": 9,
     "metadata": {},
     "output_type": "execute_result"
    }
   ],
   "source": [
    "a = np.array([1,2])\n",
    "b = np.array([3,4])\n",
    "a+b"
   ]
  },
  {
   "cell_type": "code",
   "execution_count": 10,
   "metadata": {},
   "outputs": [
    {
     "data": {
      "text/plain": [
       "array([ 50, 100])"
      ]
     },
     "execution_count": 10,
     "metadata": {},
     "output_type": "execute_result"
    }
   ],
   "source": [
    "50*a"
   ]
  },
  {
   "cell_type": "code",
   "execution_count": 11,
   "metadata": {},
   "outputs": [
    {
     "data": {
      "text/plain": [
       "array([3, 8])"
      ]
     },
     "execution_count": 11,
     "metadata": {},
     "output_type": "execute_result"
    }
   ],
   "source": [
    "a*b     # Element wise computation"
   ]
  },
  {
   "cell_type": "markdown",
   "metadata": {},
   "source": [
    "When we refer to multiplacation of vectors, we usually are refering to the dot product"
   ]
  },
  {
   "cell_type": "code",
   "execution_count": 12,
   "metadata": {},
   "outputs": [
    {
     "data": {
      "text/plain": [
       "11"
      ]
     },
     "execution_count": 12,
     "metadata": {},
     "output_type": "execute_result"
    }
   ],
   "source": [
    "np.dot(a,b)"
   ]
  },
  {
   "cell_type": "markdown",
   "metadata": {},
   "source": [
    "The dot product of two vectors is as follows:\n",
    "$$(a_{1}*b_{1}*...*n_{1}) + (a_{2}*b_{2}*...*n_{2})+...+(a_{n}*b_{n}*...*n_{n})$$"
   ]
  },
  {
   "cell_type": "markdown",
   "metadata": {},
   "source": [
    "We can use the dot product to find the angle between two vectors. The dot product can also be represented like so:\n",
    "$$\\vec{p}\\cdot\\vec{q} = |u||v|cos(\\theta)$$\n",
    "$$cos(\\theta) = \\frac{\\vec{p}\\cdot\\vec{q}}{|u||v|}"
   ]
  },
  {
   "cell_type": "code",
   "execution_count": 13,
   "metadata": {},
   "outputs": [
    {
     "data": {
      "text/plain": [
       "0.9746318461970762"
      ]
     },
     "execution_count": 13,
     "metadata": {},
     "output_type": "execute_result"
    }
   ],
   "source": [
    "u = np.array([4,5,6])\n",
    "v = np.array([1,2,3])\n",
    "dot_product_uv = np.dot(u,v)        # dot product of uv\n",
    "norm_u = np.linalg.norm(u)          # norm of u\n",
    "norm_v = np.linalg.norm(v)          # norm of v\n",
    "cos_theta = dot_product_uv/(norm_u*norm_v)\n",
    "cos_theta"
   ]
  },
  {
   "cell_type": "markdown",
   "metadata": {},
   "source": [
    "To get the angle, we now use the arccos to get the radians"
   ]
  },
  {
   "cell_type": "code",
   "execution_count": 14,
   "metadata": {},
   "outputs": [
    {
     "data": {
      "text/plain": [
       "0.2257261285527342"
      ]
     },
     "execution_count": 14,
     "metadata": {},
     "output_type": "execute_result"
    }
   ],
   "source": [
    "np.arccos(cos_theta)"
   ]
  },
  {
   "cell_type": "markdown",
   "metadata": {},
   "source": [
    "If we want it in degrees we can use this conversion:\n",
    "$$degrees = radians * \\frac{180}{\\pi}$$"
   ]
  },
  {
   "cell_type": "code",
   "execution_count": 15,
   "metadata": {},
   "outputs": [
    {
     "data": {
      "text/plain": [
       "12.933154491899135"
      ]
     },
     "execution_count": 15,
     "metadata": {},
     "output_type": "execute_result"
    }
   ],
   "source": [
    "theta_degrees = np.arccos(cos_theta) * 180/np.pi\n",
    "theta_degrees"
   ]
  },
  {
   "cell_type": "code",
   "execution_count": 16,
   "metadata": {},
   "outputs": [],
   "source": [
    "import matplotlib.pyplot as plt"
   ]
  },
  {
   "cell_type": "code",
   "execution_count": 17,
   "metadata": {},
   "outputs": [],
   "source": [
    "u = np.array([1,2])\n",
    "v = np.array([-3,4])\n",
    "origin = np.array([0,0])\n",
    "dot_product_uv = np.dot(u,v)\n",
    "norm_u = np.linalg.norm(u)\n",
    "norm_v = np.linalg.norm(v)\n",
    "cos_theta = dot_product_uv/(norm_u*norm_v)\n",
    "theta_radians = np.arccos(cos_theta)\n",
    "theta_degrees = np.arccos(cos_theta) * 180/np.pi"
   ]
  },
  {
   "cell_type": "code",
   "execution_count": 18,
   "metadata": {},
   "outputs": [
    {
     "data": {
      "text/plain": [
       "<matplotlib.quiver.Quiver at 0x2770f58e7c0>"
      ]
     },
     "execution_count": 18,
     "metadata": {},
     "output_type": "execute_result"
    },
    {
     "data": {
      "image/png": "[encoded data removed]",
      "text/plain": [
       "<Figure size 432x288 with 1 Axes>"
      ]
     },
     "metadata": {
      "needs_background": "light"
     },
     "output_type": "display_data"
    }
   ],
   "source": [
    "plt.quiver(origin, origin,u,v,scale=21)"
   ]
  },
  {
   "cell_type": "markdown",
   "metadata": {},
   "source": [
    "### Matrix\n",
    "A multidimentional array (2D).\n",
    "\n",
    "#### Sum of matrices\n",
    "We can only sum matrices of the same shape.\n",
    "\n",
    "$$\\begin{bmatrix}1 & 2 \\\\ 3 & 4\\end{bmatrix} + \\begin{bmatrix}3 & 4 \\\\ 0 & 1\\end{bmatrix} = \\begin{bmatrix}1+3 & 2+4 \\\\ 3+0 & 4+1\\end{bmatrix}$$\n",
    "$$\\begin{bmatrix}4 & 6 \\\\ 3 & 5\\end{bmatrix}$$"
   ]
  },
  {
   "cell_type": "markdown",
   "metadata": {},
   "source": [
    "#### Scalar multiplication for matrices\n",
    "\n",
    "$$M = \\begin{bmatrix}a & b & c \\\\ d & e & f\\end{bmatrix}$$\n",
    "$$ \\lambda M = \\begin{bmatrix}\\lambda*a & \\lambda*b & \\lambda*c \\\\ \\lambda*d & \\lambda*e & \\lambda*f\\end{bmatrix}"
   ]
  },
  {
   "cell_type": "markdown",
   "metadata": {},
   "source": [
    "#### 2x2 Matrix multiplication\n",
    "To produce the result of matrix multiplication, we make the dot product of the row at position 0 times the column of position 0, and the same for each other element\n",
    "\n",
    "$$\\begin{bmatrix}a & b\\\\ c & d\\end{bmatrix} * \\begin{bmatrix}e & f\\\\ g & h\\end{bmatrix} = \\begin{bmatrix}ae+bg & af+bh\\\\ ce+dg & cf+dh\\end{bmatrix}$$"
   ]
  },
  {
   "cell_type": "markdown",
   "metadata": {},
   "source": [
    "$$For Matrix A * Matrix B$$\n",
    "- number of columns in A must mattch number of rows in B\n",
    "\n",
    "$$\\begin{bmatrix}1 & 2 & 3 \\\\ 4 & 5 & 6\\end{bmatrix} * \\begin{bmatrix} 1 \\\\ 2 \\\\ 3\\end{bmatrix} = \\begin{bmatrix} 1*1+2*2+3*3 \\\\ 4*1+5*2+6 *3\\end{bmatrix}$$\n",
    "$$\\begin{bmatrix}14 \\\\32\\end{bmatrix}"
   ]
  },
  {
   "cell_type": "markdown",
   "metadata": {},
   "source": [
    "#### Matrix multiplication by transformation\n",
    "\n",
    "$$Rotation matrix: \\begin{bmatrix}cos(\\theta) & -sin(\\theta) \\\\ sin(\\theta) & cos(\\theta)\\end{bmatrix}$$"
   ]
  },
  {
   "cell_type": "markdown",
   "metadata": {},
   "source": [
    "### Linear combinations\n",
    "$$i = (1,0)$$\n",
    "$$j = (0,1)$$\n",
    "Every vector is a linear combination of i and j scaled to some level"
   ]
  },
  {
   "cell_type": "markdown",
   "metadata": {},
   "source": [
    "i and j are known as a basis for the plane, because each other vector can be generated by some linear combination of i and j. The basis can be any vectors that are linearly independent and can generte all points on a plane.\n",
    "\n",
    "Vectors are linearly dependent if two (or more) vectors are on the same line. You can check if vectors are on the same line if one of the vectors can be obtained through some scalar operation.\n",
    "\n",
    "The set of all possible vectors you can reach with linear combinations is known as the **span** of those vectors. If the vectors are linearly independent, the span will be all of 2D space."
   ]
  }
 ],
 "metadata": {
  "interpreter": {
   "hash": "e171acd309c06983148c9856e741c79a7072f11ec9d548c93ae4f1382cc847af"
  },
  "kernelspec": {
   "display_name": "Python 3.8.12 64-bit ('strive': conda)",
   "language": "python",
   "name": "python3"
  },
  "language_info": {
   "codemirror_mode": {
    "name": "ipython",
    "version": 3
   },
   "file_extension": ".py",
   "mimetype": "text/x-python",
   "name": "python",
   "nbconvert_exporter": "python",
   "pygments_lexer": "ipython3",
   "version": "3.8.12"
  },
  "orig_nbformat": 4
 },
 "nbformat": 4,
 "nbformat_minor": 2
}
