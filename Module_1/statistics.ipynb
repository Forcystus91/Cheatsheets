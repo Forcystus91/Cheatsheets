{
 "cells": [
  {
   "cell_type": "markdown",
   "metadata": {},
   "source": [
    "# Statistics"
   ]
  },
  {
   "cell_type": "code",
   "execution_count": 1,
   "metadata": {},
   "outputs": [],
   "source": [
    "import numpy as np\n",
    "import matplotlib.pyplot as plt"
   ]
  },
  {
   "cell_type": "markdown",
   "metadata": {},
   "source": [
    "Statistics is the science of \n",
    "- collecting\n",
    "- organizing\n",
    "- presenting\n",
    "- analysing\n",
    "- interpreting data.\n",
    "Statistical analysis is ued to manipulte, summarise, and investigate data in order to obtain useful information for decision making.\n",
    "\n",
    "Statistics is a prerequisite for machine learning. It is a toll for understanding if our models are correct or incorrect."
   ]
  },
  {
   "cell_type": "markdown",
   "metadata": {},
   "source": [
    "### Descriptive Statistics\n",
    "Methods of organizing, summarizing and displaying data in an informative manner; **how is your data**\n",
    "\n",
    "For example, take the list $[5,36,36,97,120,267,509]$.\n",
    "\n",
    "We can ask a few questions:\n",
    "\n",
    "- Which value is the most frequent (mode)?\n",
    "- What is the median value?\n",
    "- How big is the interval from minimum to maximum value?\n",
    "- etc"
   ]
  },
  {
   "cell_type": "markdown",
   "metadata": {},
   "source": [
    "### Inferential Statistics\n",
    "The methods used to determine something about a population based on a sample.\n",
    "- Population: The set of individuals or objects of intersect\n",
    "- Sample: A portion or part of the population of interest\n",
    "\n",
    "We take a small sample and we can make an **Exploratory Data Analysis**. We then use the sample to try to infer broader predictions about the whole population\n",
    "\n",
    "#### Sampling\n",
    "A sample should have the same characteristics as the population it represents. Because of this, randomness in sampling is very important. Sampling can be:\n",
    "- With replacement: a member of the population can be chosen more than once\n",
    "- Without replacement: A member of the population can be selected only once\n",
    "\n",
    "The sampling methods can be:\n",
    "- Random - each member of the population has an equal chance of being selected\n",
    "- Non-Random - A member of the population can be chosen based on certain characteristics.\n",
    "\n",
    "The sampling process is prone to errors. The most common one's include:\n",
    "- A sample size is not large enough\n",
    "- A sample size is not representative of the population"
   ]
  },
  {
   "cell_type": "markdown",
   "metadata": {},
   "source": [
    "### Central Values\n",
    "A fundemental concept is the statistical summary is that of a central value for a set of observations and the extent to which the central value characteristizes the entire data set. The **Central Measurement** is a measure that summarizes the whole dataset. The most commonly used methos are mean, meadian and mode.\n",
    "\n",
    "Central value measures, such as mean or median, should be combined with measures of data dispersion to indicate how well the core value characterizes data as a whole"
   ]
  },
  {
   "cell_type": "markdown",
   "metadata": {},
   "source": [
    "### Methods of measuring the central value\n",
    "- Mean(average): Summarizing all the observations and dividing the total number of obeservations\n",
    "- Median: The median value in an **ordered** sequence of observations. If the sample is pair, it is $\\frac{n+m}{2}$\n",
    "- Mode: The most frequently observed value.\n",
    "\n",
    "#### Average or Median?\n",
    "Generally, we choose the mean(average), but the median is less sensitive to outliers. The median is a better measure than the mean when we are dealing with highly skewed distributitions of data."
   ]
  },
  {
   "cell_type": "markdown",
   "metadata": {},
   "source": [
    "### Standard Deviation\n",
    "The standard deviation is a measure of the amount of variation or dispersion of a set of values. A **low standard deviation** idicates that the values tend to be close to **the mean** (also called the expected value) of the set, while a **high standard deviation** indicates that the values are spread out over a wider range.\n",
    "\n",
    "standard deviation can be calculated by taking the square root of the summation of the square of every value minus the mean, and dividing that summation by the number of values.\n",
    "\n",
    "For example, if our values are $1,2,3,4,10$,\n",
    "\n",
    "mean = $\\frac{1+2+3+4+10}{5} = \\frac{20}{5} = 4$\n",
    "\n",
    "std deviation = $\\sqrt{\\frac{(1-4)^{2}+(2-4)^{2}+(3-4)^{2}+(4-4)^{2}+(10-4)^{2}}{5}}=\\sqrt{\\frac{9+4+1+0+36}{5}}=\\sqrt{10}$"
   ]
  },
  {
   "cell_type": "markdown",
   "metadata": {},
   "source": [
    "### Variance\n",
    "Variance is the expectation of the squared deviation of a random variable from its mean. Informally, it measures how far a set of numbers is spread out from their average value.\n",
    "\n",
    "The variance can be calculated by squaring the std deviation"
   ]
  },
  {
   "cell_type": "markdown",
   "metadata": {},
   "source": [
    "### Quartiles\n",
    "- Quantile: Cut-off points that divide the range of a probability distribution into continuous intervals with equal probabilities, or that divide observations in a sample in the same way.\n",
    "- Quartiles: The three cut-off points that divide a data set into four groups of equal size\n",
    " - First quartile(Q1): The middle number between the smallest and the median number in the dataset; divides the lowest $\\frac{1}{4}$ of the data set from the highest $\\frac{3}{4}$.\n",
    " - Second Quartile(Q2): The median of the data, halves the dataset\n",
    " - Third Quartile(Q3): The mean value between the median and the highest value of the dataset; divides the highest $\\frac{1}{4}$ from the lowest $\\frac{3}{4}$"
   ]
  },
  {
   "cell_type": "markdown",
   "metadata": {},
   "source": [
    "### Correlation\n",
    "The correlation is a statistic designed to quantify the strength of the relationship between two variables. The correlation coefficient, $r$, quantifies the strength and direction of the linear relationship between two quantitative variables.\n",
    "\n",
    "$$r = \\frac{\\sum(x_{i}-\\vec{x})(y_{i}-\\vec{y})}{\\sqrt{\\sum{(x_{i}-\\vec{x})^{2}\\sum(y_{i}-\\vec{y})^{2}}}}$$"
   ]
  },
  {
   "cell_type": "markdown",
   "metadata": {},
   "source": [
    "### Bias\n",
    "A statistical bias is an attribute of a stitistical technique or its result in which the expected value of te results differ from the true quantitative parameter that is being estimated.\n",
    "- Selection bias: When you are selecting your sample or data wrong. Usually this means accidentally working with a specific subset of your audience instead of the whole, rendering your sample unrepresentative of the whole population.\n",
    "- Recall bias: when the respondent doesn't remember things correctly\n",
    "- Self-selection bias: If you let te subjects of the analysis select themselves.\n",
    "- Observer bias: When the researhcer subconsciously projects their expectations onto the research\n",
    "- Survivorship bias: Only the successful ones\n",
    "- Spectrum bias: The evaluation or diagnostic tests based om biased patient samples, leading to an overestimation of the sensitivity andd specificity of the test\n",
    "- Funding bias: can lead to the selection of results, test samples or test procedures that favor the financial sponsor of a study\n",
    "- Information bias: implies a bias in the availability of data so the observations of a certain type are more likely to be reported.\n",
    "- Analytical bias: bias due to the way results are evaluated\n",
    "- Exclusion bias: arises because of systematic exclusion of certain individuals from the study"
   ]
  },
  {
   "cell_type": "markdown",
   "metadata": {},
   "source": []
  }
 ],
 "metadata": {
  "interpreter": {
   "hash": "e171acd309c06983148c9856e741c79a7072f11ec9d548c93ae4f1382cc847af"
  },
  "kernelspec": {
   "display_name": "Python 3.8.12 64-bit ('strive': conda)",
   "language": "python",
   "name": "python3"
  },
  "language_info": {
   "codemirror_mode": {
    "name": "ipython",
    "version": 3
   },
   "file_extension": ".py",
   "mimetype": "text/x-python",
   "name": "python",
   "nbconvert_exporter": "python",
   "pygments_lexer": "ipython3",
   "version": "3.8.12"
  },
  "orig_nbformat": 4
 },
 "nbformat": 4,
 "nbformat_minor": 2
}
