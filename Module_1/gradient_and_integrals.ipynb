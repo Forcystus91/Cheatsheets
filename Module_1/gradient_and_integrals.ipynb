{
 "cells": [
  {
   "cell_type": "markdown",
   "metadata": {},
   "source": [
    "# Gradients and Integrals"
   ]
  },
  {
   "cell_type": "markdown",
   "metadata": {},
   "source": [
    "### Minimalization with derivatives\n",
    "The minimum of a function is the $x$ value which returns the lowest $y$ value.\n",
    "\n",
    "Let's say we randomly choose a point on the x-axis. Then we can look at the projection of the value of the function on the point and we can compute the derivative. \n",
    "\n",
    "\n",
    "### Gradient Descent\n",
    "Choose a random starting point and compute the derivative. If it is positive, choose another point to the left of the original point. If it is negative or zero, move to the right. Until we find our desired point.\n",
    "\n",
    "Gradient descent is used in nueral networks to minimize the error. Our x axis of the nueral network will be the parametes of the network.\n",
    "\n",
    "### Calculus functions of multi-vriables\n",
    "$$f(x,y) = x + y + 1$$\n",
    "\n",
    "How do we compute the derivatice. Since multi variable functions have more than one variable, we cannot use our normal $f`(x)$ function, since that would only be $\\frac{df}{dx}. Instead, we will need to compute two derivatives.\n",
    "\n",
    "$$\\frac{df}{dx}(x,y),\\frac{df}{df}(x,y)$$\n",
    "\n",
    "$$\\nabla f(x,y) = (\\frac{df}{dx},\\frac{df}{dy})$$\n"
   ]
  },
  {
   "cell_type": "markdown",
   "metadata": {},
   "source": [
    "#### Computing the partial derivative of multi-variable functios\n",
    "$$f(x,y)=x+y$$\n",
    "\n",
    "First, we compute $|frac{df}{dx}$. While deriving with respect to x, we treat all other variables as we would constants.\n",
    "\n",
    "$$\\frac{df(x,y)}{dx} = 1+0 = 1$$\n",
    "\n",
    "Next, we do the same for $\\frac{df}{dy}$\n",
    "\n",
    "$$\\frac{df(x,y)}{dy} = 0+1=1$$\n",
    "\n",
    "So in the end, $\\nabla f(x,y) = (1,1)$\n",
    "\n",
    "Another example:\n",
    "\n",
    "$$f(x,y) = xy$$\n",
    "\n",
    "$$\\frac{df}{dx} = y$$\n",
    "\n",
    "$$\\frac{df}{dy} = x$$\n",
    "\n",
    "$$\\nabla f(x,y)= (y,x)$$"
   ]
  },
  {
   "cell_type": "markdown",
   "metadata": {},
   "source": [
    "Another example:\n",
    "\n",
    "$$f(x,y,z) = xlog(y)+2z$$\n",
    "\n",
    "$$\\nabla f(x,y,z)= (\\frac{df}{dx},\\frac{df}{dy},\\frac{df}{dz})$$\n",
    "\n",
    "$$\\nabla f(x,y,z)=(log(y),\\frac{x}{y},2)$$"
   ]
  },
  {
   "cell_type": "markdown",
   "metadata": {},
   "source": [
    "### Integrals\n",
    "$$\\lim_{n \\to \\infty}\\sum_{i=0}^{n}\\Delta x_{i}f(x_{i})$$\n",
    "\n",
    "$$\\int_a^b f(x)dx$$\n",
    "\n",
    "How to compute the integral. \n",
    "\n",
    "$$F(x) =\\int f(x)dx$$\n",
    "$$F`(x) = f(x)$$\n",
    "\n",
    "The integral is the 'Anti-derivative'. \n",
    "\n",
    "$$\\int f(x)dx = F(x) + c$$\n",
    "\n",
    "Where $c$ is some arbitrary constant.\n",
    "\n",
    "$$\\int_a^b f(x)dx = F(b) - F(a)$$\n",
    "\n"
   ]
  }
 ],
 "metadata": {
  "language_info": {
   "name": "python"
  },
  "orig_nbformat": 4
 },
 "nbformat": 4,
 "nbformat_minor": 2
}
