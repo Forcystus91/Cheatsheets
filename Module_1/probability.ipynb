{
 "cells": [
  {
   "cell_type": "markdown",
   "metadata": {},
   "source": [
    "# Probability\n",
    "#### Mutually exclusive events\n",
    "There is no intersection point between the events\n",
    "\n",
    "$$\\mathbb{P}(A\\,or\\,B)=P(A)+P(B)$$\n",
    "\n",
    "#### Non-mutualy exclusive events\n",
    "$$\\mathbb{P}(A\\,or\\,B)=P(A)+P(B)-P(A\\cap B)$$\n",
    "\n",
    "#### Multiplication rules"
   ]
  },
  {
   "cell_type": "markdown",
   "metadata": {},
   "source": [
    "**Mutually Exclusive Events**\n",
    "\n",
    "If we take tossing a coin for example of a mutually exclusive event, we see that the previous coin toss has no influence on the probability of the next coin toss. \n",
    "\n",
    "$$\\mathbb{P}(A\\,or\\,B)= P(A)*P(B)$$\n",
    "\n",
    "**Non-mutually Exclusive Events**\n",
    "\n",
    "If we take a deck of cards as an example, with each card we draw, the probabilty of drawing a specific card changes.\n",
    "\n",
    "$$\\mathbb{P}(A\\,or\\,B)= \\mathbb{P}(A)*P(\\frac{B}{A})$$\n",
    "\n",
    "The $\\mathbb{P}(\\frac{B}{A})$ is known as the conditional event. It means you are basing your probability off of the previous one"
   ]
  },
  {
   "cell_type": "markdown",
   "metadata": {},
   "source": [
    "### Sample Space\n",
    "The set of all possible outcomes or results of an experiment\n",
    "\n",
    "For example if we throw a die, our sample space is $S =\\{1,2,3,4,5,6\\}$"
   ]
  },
  {
   "cell_type": "markdown",
   "metadata": {},
   "source": [
    "### Random Variable\n",
    "It is a function defined over S, the sample space. A random variable is a numerical description of the outcome of a statistical experiment.\n",
    "\n",
    "For example, throwing a die:\n",
    "\n",
    "$$S =\\{1,2,3,4,5,6\\}$$\n",
    "\n",
    "$$S\\,\\longrightarrow\\,result\\,of\\,throwing\\,\\,die$$\n",
    "\n",
    "#### Discrete vs Continuous Variables\n",
    "A discrete outcome is an outcome that has finite results. A continuous variable can have infinite outcomes. "
   ]
  },
  {
   "cell_type": "markdown",
   "metadata": {},
   "source": [
    "### Events\n",
    "A set of outcomes of an experiment (a subset of the sample space) to which a probabilty is assigned,\n",
    "\n",
    "#### Complementary Event\n",
    "The  complementary set of our event not occuring. For example, the probability of rolling a 3 on a d6 is $\\frac{1}{6}$. So our event, $E$, is throwing a die and getting a 3, while the complementary event, $E^{c}$, is rolling a die and not getting a 3.\n",
    "\n",
    "$$S =\\{1,2,3,4,5,6\\}$$\n",
    "\n",
    "$$E = \\{3\\}$$\n",
    "\n",
    "$$E^{c} = \\{1,2,4,5,6\\}$$\n",
    "\n",
    "So we can say:\n",
    "\n",
    "$$\\mathbb{P}(E^{C})= 1 - \\mathbb{P}(E)$$"
   ]
  },
  {
   "cell_type": "markdown",
   "metadata": {},
   "source": [
    "### Axioms of Probabilty\n",
    "We always define probability between 0 and 1. An event that is always true, for example, is 1.\n",
    "\n",
    "$$\\mathbb{P}(True)=1 \\quad \\quad \\mathbb{P}(False)=0$$\n",
    "\n",
    "#### Probability of union\n",
    "$$\\mathbb{P}(A\\cup B)=\\mathbb{P}(A)+\\mathbb{P}(B) - \\mathbb{P}(A\\cap B)$$"
   ]
  },
  {
   "cell_type": "markdown",
   "metadata": {},
   "source": [
    "### Joint vs marginal probability\n",
    "**Joint probability*** is a measure that calculates the liklihood of two events occuring together at the same point in time. It is the probability of event $Y$ occuring at the same time that event $X$ occurs.\n",
    "\n",
    "Example: What is the probability of getting a high diamond card in a deck of 52? We can express that as follows:\n",
    "\n",
    "$$\\mathbb{P}(h\\cap d) = \\mathbb{P}(h)*\\mathbb{P}(d)$$\n",
    "\n",
    "We calculate each probability individually and then multiply them together.\n",
    "\n",
    "$$\\mathbb{P}(h) = \\frac{16}{52}=\\frac{4}{13}\\quad \\quad \\mathbb{P}(d)=\\frac{13}{52}=\\frac{1}{4}$$\n",
    "\n",
    "$$\\frac{4}{13}*\\frac{1}{4}=\\frac{1}{13}$$\n",
    "\n",
    "**Marginal probability** is the probability of an event irrespective of the outcome of another variable."
   ]
  },
  {
   "cell_type": "markdown",
   "metadata": {},
   "source": [
    "### Conditional probability\n",
    "The liklihood of an event or outcome occuring based on the occurence of a previous event or outcome. The form is as follows:\n",
    "\n",
    "$$\\mathbb{P}(A|B)=\\frac{\\mathbb{P}(A\\cap B)}{\\mathbb{P}(B)}$$\n",
    "\n",
    "Using our previous examples with high diamonds, we can calculate the conditional probabilty as:\n",
    "\n",
    "$$\\mathbb{P}(A|B)=\\frac{\\mathbb{P}(h\\cap d)}{\\mathbb{P}(d)}=\\frac{\\frac{1}{13}}{\\frac{1}{4}}=\\frac{4}{13}$$"
   ]
  },
  {
   "cell_type": "markdown",
   "metadata": {},
   "source": [
    "### Bayes Rule\n",
    "\n",
    "$$\\mathbb{P}(B|A)=\\frac{\\mathbb{P}(A|B)\\mathbb{P}(B)}{\\mathbb{P}(A)}$$"
   ]
  },
  {
   "cell_type": "markdown",
   "metadata": {},
   "source": [
    "Example: What is the probability you have Coronavirus if you tested positive?\n",
    "\n",
    "$$\\mathbb{P}(CoVid|t+)=\\frac{\\mathbb{P}(t+|CoVid)*\\mathbb{P}(CoVid)}{\\mathbb{P}(t+|CoVid)\\mathbb{P}(CoVid)+\\mathbb{P}(t+|\\neg CoVid)\\mathbb{P}(\\neg CoVid)}$$"
   ]
  },
  {
   "cell_type": "markdown",
   "metadata": {},
   "source": [
    "We can use this in AI. A model is nothing ore than a machine that updates and manages many joint probabilities to make a specific prediction about what it is w asked it to calculate."
   ]
  },
  {
   "cell_type": "markdown",
   "metadata": {},
   "source": [
    "### Chain rule for probability\n",
    "For more than two events $A_{1},...,A_{n}$:\n",
    "\n",
    "$$\\mathbb{P}(A_{n}\\cap...\\cap A_{1})= \\mathbb{P}(A_{n}|A_{n-1}\\cap...\\cap A_{1})*\\mathbb{P}(A_{n-1}\\cap...\\cap A_{1})$$\n",
    "\n",
    "With four events, the chain rule would look like:\n",
    "\n",
    "$$\\mathbb{P}(A_{1}\\cap A_{2}\\cap A_{3}\\cap A_{4})$$\n",
    "\n",
    "$$=\\mathbb{P}(A_{4}|A_{3}\\cap A_{2}\\cap A_{1})$$\n",
    "\n",
    "$$=\\mathbb{P}(A_{4}|A_{3}\\cap A_{2}\\cap A_{1})\\mathbb{P}(A_{3}|A_{2}\\cap A_{1})$$\n",
    "\n",
    "$$=\\mathbb{P}(A_{4}|A_{3}\\cap A_{2}\\cap A_{1})\\mathbb{P}(A_{3}|A_{2}\\cap A_{1})\\mathbb{P}(A_{1})$$"
   ]
  },
  {
   "cell_type": "markdown",
   "metadata": {},
   "source": [
    "### Independent Events\n",
    "Given two independent random events $A$ and $B$, the outcome of $A$ does not effect the utcome of $B$ and vice versa. Thus if:\n",
    "\n",
    "$$\\mathbb{P}(A\\cap B)= \\mathbb{P}(A)*\\mathbb{P}(B)$$\n",
    "\n",
    "$A$ and $B$ are independent."
   ]
  },
  {
   "cell_type": "markdown",
   "metadata": {},
   "source": [
    "### Permutations\n",
    "$$P(n,r)=\\frac{n!}{(n-r)!}$$\n",
    "\n",
    "In permutations, order matters and repititions are not allowed. \n",
    "\n",
    "### Combinations\n",
    "$$C(n,r)=\\frac{n!}{r!(n-r)!}$$\n",
    "\n",
    "With respect to combinations, order does not matter and repitions are not allowed."
   ]
  },
  {
   "cell_type": "markdown",
   "metadata": {},
   "source": []
  }
 ],
 "metadata": {
  "language_info": {
   "name": "python"
  },
  "orig_nbformat": 4
 },
 "nbformat": 4,
 "nbformat_minor": 2
}
